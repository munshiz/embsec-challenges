{
 "cells": [
  {
   "cell_type": "markdown",
   "metadata": {},
   "source": [
    "# Intro c\n",
    "\n",
    "In this lesson you will learn how to interact with the course system. This\n",
    "course is split up into a series of lessons each with specific learning goals.\n",
    "Each lesson contains a series of challenge for you to complete. The challenges\n",
    "will require you to learn from online resources such as https://docs.python.org/,\n",
    "https://en.cppreference.com/w/c/language, and, our favorite, https://stackoverflow.com/.\n",
    "\n",
    "After completing a given challenge, a flag will be awarded to you!\n"
   ]
  },
  {
   "cell_type": "markdown",
   "metadata": {},
   "source": [
    "### Challenge Name: read_example (/embsec/intro_c/read_example)\n",
    "\n",
    "These introductory C challenges somewhat mirror the serial device you\n",
    "interacted with in the introductory Python challenges. In `read_example`,\n",
    "you waited for a full line to be received from the serial connection. In this\n",
    "C version, you will be reading in the flag string from the serial port byte-by-byte\n",
    "and sending back a full string to the host. If you had two serial ports, you\n",
    "could think of this as receiving the flag from one device, and sending it to\n",
    "the other!\n",
    "\n",
    "To complete this challenge, you will need to use the serial communication\n",
    "functions in `uart.c`. Remember to `#include` the UART header file\n",
    "(`uart.h`) in your solution. Pay attention to the `if` statements in those\n",
    "functions; you may have to do some setup at the beginning of your program.\n",
    "The C challenges work differently from the Python challenges. You have to write\n",
    "your own C source file, where the name is determined by the challenge (you can\n",
    "see the expected file name in the python window below following `f'gcc`).\n",
    "For this challenge, a skeleton program has been provided for you that\n",
    "implements the necessary `main` function. In future challenges, you will\n",
    "likely have to make the file yourself.\n",
    "\n",
    "To complete this challenge, your solution must complete the following steps:\n",
    "\n",
    "    1. Read newline-terminated flag string from the host, byte-by-byte\n",
    "    2. Send the full flag as a string back to the host\n",
    "\n",
    "Resources:\n",
    "\n",
    "<https://docs.python.org/3/library/struct.html>\n",
    "\n",
    "\n"
   ]
  },
  {
   "cell_type": "code",
   "execution_count": null,
   "metadata": {},
   "outputs": [],
   "source": [
    "import embsec\n",
    "import subprocess\n",
    "from core.util import extract_flag\n",
    "\n",
    "def read_example():\n",
    "    subprocess.check_output([f'(cd read_example && make CHALLENGE=read_example)'], shell=True)\n",
    "    resp0, resp1, resp2 = embsec.grade_emulated(f'./read_example/gcc/main.bin', f'/embsec/intro_c/read_example')\n",
    "    stdout, stdin = resp2\n",
    "    return (extract_flag(stdout))\n",
    "    \n",
    "read_example()\n",
    "\n"
   ]
  },
  {
   "cell_type": "markdown",
   "metadata": {},
   "source": [
    "### Challenge Name: write_example (/embsec/intro_c/write_example)\n",
    "\n",
    "This challenge is similar to the previous one. The same setup applies to\n",
    "this one! The functionality to implement is listed below:\n",
    "\n",
    "    1. Write a newline-terminated string to the host\n",
    "    2. Read newline-terminated flag string from the host, byte-by-byte\n",
    "    3. Send the full flag as a string back to the host\n",
    "\n",
    "Resources:\n",
    "\n",
    "<https://docs.python.org/3/library/struct.html>\n",
    "\n",
    "\n"
   ]
  },
  {
   "cell_type": "code",
   "execution_count": null,
   "metadata": {},
   "outputs": [],
   "source": [
    "import embsec\n",
    "import subprocess\n",
    "from core.util import extract_flag\n",
    "\n",
    "def write_example():\n",
    "    subprocess.check_output([f'(cd write_example && make CHALLENGE=write_example)'], shell=True)\n",
    "    resp0, resp1, resp2 = embsec.grade_emulated(f'./write_example/gcc/main.bin', f'/embsec/intro_c/write_example')\n",
    "    stdout, stdin = resp2\n",
    "    return (extract_flag(stdout))\n",
    "    \n",
    "write_example()\n",
    "\n"
   ]
  }
 ],
 "metadata": {},
 "nbformat": 4,
 "nbformat_minor": 2
}
