{
 "cells": [
  {
   "cell_type": "markdown",
   "metadata": {},
   "source": [
    "# Hmac python\n",
    "\n"
   ]
  },
  {
   "cell_type": "markdown",
   "metadata": {},
   "source": [
    "### Challenge Name: hmac_generate (/embsec/hmac_python/hmac_generate)\n",
    "\n",
    "\n",
    "    The serial device will send you a variable-length frame of data. The data\n",
    "    frame will begin with a short, little-endian integer size of the data to \n",
    "    follow. You must generate an HMAC-SHA256 signature using the key in \n",
    "    'hmackeyfile0.bin'.\n",
    "    \n",
    "    The data frame you will receive from the device will be formatted as follows:\n",
    "    \n",
    "    [ 0x2   ] [   variable...   ]\n",
    "    ------------------------------\n",
    "    | Size   |     Data          |\n",
    "    ------------------------------\n",
    "    \n",
    "    You must send a 32-byte HMAC-SHA256 signature to the serial device.\n",
    "    \n",
    "    [     0x20     ]\n",
    "    ----------------\n",
    "    |  HMAC(Data)  |\n",
    "    ----------------\n",
    "    \n",
    "    1. Read the HMAC key from 'hmackeyfile0.bin'\n",
    "    2. Read the size of the data from the serial device\n",
    "    3. Read the data from the serial device\n",
    "    4. Generate and send a HMAC-SHA256 over the data\n",
    "    5. Read the response\n",
    "    \n",
    "\n"
   ]
  },
  {
   "cell_type": "code",
   "execution_count": 12,
   "metadata": {},
   "outputs": [
    {
     "data": {
      "text/plain": [
       "b'embsec{hmac_generate_e3306a3b838da454}\\n'"
      ]
     },
     "execution_count": 12,
     "metadata": {},
     "output_type": "execute_result"
    }
   ],
   "source": [
    "from embsec import Serial\n",
    "import struct\n",
    "from Crypto.Hash import HMAC, SHA256\n",
    "\n",
    "def hmac_generate():\n",
    "    ser = Serial(\"/embsec/hmac_python/hmac_generate\")\n",
    "    # Your code goes here!\n",
    "    with open('hmackeyfile0.bin', 'rb') as fp:\n",
    "        file_contents = fp.read()\n",
    "    size = struct.unpack('<h', ser.read(2))[0]\n",
    "    data = ser.read(size)\n",
    "    h = HMAC.new(file_contents, digestmod=SHA256)\n",
    "    h.update(data)\n",
    "    ser.write(h.digest())\n",
    "    return ser.read_until()\n",
    "hmac_generate()\n"
   ]
  },
  {
   "cell_type": "markdown",
   "metadata": {},
   "source": [
    "### Challenge Name: hmac_verify (/embsec/hmac_python/hmac_verify)\n",
    "\n",
    "\n",
    "    The serial device will send you a series of messages in the format\n",
    "    described below. For each message you must check the attached signature \n",
    "    If verification fails, you must respond with a zero-byte '\\x00'. If \n",
    "    verification passes, you must respond with a one-byte '\\x01'. When the\n",
    "    length of the message you are about to receive is zero , read a newline-\n",
    "    terminated flag.\n",
    "\n",
    "    The serial device will send signed messages in the following format:\n",
    "\n",
    "    ----------------------------------------\n",
    "    [ 0x2 ] [  Size bytes    ] [   0x20   ]\n",
    "    ----------------------------------------\n",
    "    | Size |     Data         | HMAC(Data) |\n",
    "    ----------------------------------------\n",
    "\n"
   ]
  },
  {
   "cell_type": "code",
   "execution_count": 31,
   "metadata": {},
   "outputs": [
    {
     "name": "stdout",
     "output_type": "stream",
     "text": [
      "a\n",
      "noterr\n",
      "a\n",
      "noterr\n",
      "a\n",
      "noterr\n",
      "a\n",
      "err\n",
      "a\n",
      "noterr\n",
      "a\n",
      "err\n",
      "a\n",
      "err\n",
      "a\n",
      "err\n",
      "a\n"
     ]
    },
    {
     "data": {
      "text/plain": [
       "b'embsec{hmac_verify_dacd7f895d239a8e}\\n'"
      ]
     },
     "execution_count": 31,
     "metadata": {},
     "output_type": "execute_result"
    }
   ],
   "source": [
    "from embsec import Serial\n",
    "\n",
    "def hmac_verify():\n",
    "    ser = Serial(\"/embsec/hmac_python/hmac_verify\")\n",
    "    with open('hmackeyfile0.bin', 'rb') as fp:\n",
    "        file_contents = fp.read()\n",
    "    \n",
    "    while True:\n",
    "        print('a')\n",
    "        size = struct.unpack('<h', ser.read(2))[0]\n",
    "        if size == 0:\n",
    "            return ser.read_until()\n",
    "        \n",
    "        data = ser.read(size)\n",
    "        hmac = ser.read(32)\n",
    "        \n",
    "    \n",
    "        h = HMAC.new(file_contents, digestmod=SHA256)\n",
    "        h.update(data)\n",
    "        try:\n",
    "            h.verify(hmac)\n",
    "            ser.write(b'\\x01')\n",
    "            print(\"noterr\")\n",
    "        except ValueError:\n",
    "            print(\"err\")\n",
    "            ser.write(b'\\x00')\n",
    "    return read_until()\n",
    "    \n",
    "hmac_verify()\n"
   ]
  },
  {
   "cell_type": "code",
   "execution_count": null,
   "metadata": {},
   "outputs": [],
   "source": []
  },
  {
   "cell_type": "code",
   "execution_count": null,
   "metadata": {},
   "outputs": [],
   "source": []
  }
 ],
 "metadata": {
  "kernelspec": {
   "display_name": "Python 3",
   "language": "python",
   "name": "python3"
  },
  "language_info": {
   "codemirror_mode": {
    "name": "ipython",
    "version": 3
   },
   "file_extension": ".py",
   "mimetype": "text/x-python",
   "name": "python",
   "nbconvert_exporter": "python",
   "pygments_lexer": "ipython3",
   "version": "3.7.6"
  }
 },
 "nbformat": 4,
 "nbformat_minor": 4
}
