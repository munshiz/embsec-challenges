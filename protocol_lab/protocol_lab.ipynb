{
 "cells": [
  {
   "cell_type": "markdown",
   "metadata": {},
   "source": [
    "# Protocol lab\n",
    "\n",
    "\n",
    "Here we will walk through the steps of building up a firmware update\n",
    "protocol. We are going to use Python to implement the updater tool\n",
    "side of the protocol (the other side being the bootloader, written\n",
    "in C). This protocol can get fairly complex, so focus on structuring\n",
    "your code well so that it can be extended a re-used throughout the\n",
    "challenges!\n"
   ]
  },
  {
   "cell_type": "markdown",
   "metadata": {},
   "source": [
    "### Challenge Name: sending_data (/embsec/protocol_lab/sending_data)\n",
    "\n",
    "\n",
    "Implement the protocol described here, and send the contents of the\n",
    "sending_data.bin file to the bootloader.\n",
    "\n",
    "Protocol Description: Messages are of the format specified below,\n",
    "and are always 64 bytes. Datatypes are all big-endian.\n",
    "\n",
    "             [short]        [58 bytes]  [short]    [short]\n",
    "     -------------------------------------------------------\n",
    "    | message type (short) | data ... | unused_1 | unused_2 |\n",
    "     -------------------------------------------------------\n",
    "\n",
    "To begin a firmware update, send a BEGIN message (message type = 1)\n",
    "to the bootloader, the other fields can be set to anything for this\n",
    "message.\n",
    "\n",
    "Next, send the sending_data.bin file contents to the bootloader in chunks. For\n",
    "this, send FIRMWARE (message type = 2) messages, where the data field\n",
    "is the partial file contents.\n",
    "\n",
    "Once you have sent the entire file, send a DONE (type = 3) message and\n",
    "then listen for a line that will contain the flag.\n",
    "\n",
    "For simplicity, the firmware file size is always a multiple of 58 bytes.\n",
    "\n",
    "\n"
   ]
  },
  {
   "cell_type": "code",
   "execution_count": 1,
   "metadata": {},
   "outputs": [
    {
     "ename": "NameError",
     "evalue": "name 'Serial' is not defined",
     "output_type": "error",
     "traceback": [
      "\u001b[0;31m---------------------------------------------------------------------------\u001b[0m",
      "\u001b[0;31mNameError\u001b[0m                                 Traceback (most recent call last)",
      "\u001b[0;32m<ipython-input-1-7528f0e83303>\u001b[0m in \u001b[0;36m<module>\u001b[0;34m\u001b[0m\n\u001b[1;32m      2\u001b[0m \u001b[0;32mimport\u001b[0m \u001b[0mstruct\u001b[0m\u001b[0;34m\u001b[0m\u001b[0;34m\u001b[0m\u001b[0m\n\u001b[1;32m      3\u001b[0m \u001b[0;34m\u001b[0m\u001b[0m\n\u001b[0;32m----> 4\u001b[0;31m \u001b[0mser\u001b[0m \u001b[0;34m=\u001b[0m \u001b[0mSerial\u001b[0m\u001b[0;34m(\u001b[0m\u001b[0;34m'/embsec/protocol_lab/sending_data'\u001b[0m\u001b[0;34m)\u001b[0m\u001b[0;34m\u001b[0m\u001b[0;34m\u001b[0m\u001b[0m\n\u001b[0m\u001b[1;32m      5\u001b[0m \u001b[0;31m# Your code goes here!\u001b[0m\u001b[0;34m\u001b[0m\u001b[0;34m\u001b[0m\u001b[0;34m\u001b[0m\u001b[0m\n\u001b[1;32m      6\u001b[0m \u001b[0mser\u001b[0m\u001b[0;34m.\u001b[0m\u001b[0mwrite\u001b[0m\u001b[0;34m(\u001b[0m\u001b[0mstruct\u001b[0m\u001b[0;34m.\u001b[0m\u001b[0mpack\u001b[0m\u001b[0;34m(\u001b[0m\u001b[0;34m'>h58shh'\u001b[0m\u001b[0;34m,\u001b[0m \u001b[0;36m1\u001b[0m\u001b[0;34m,\u001b[0m \u001b[0mbytes\u001b[0m\u001b[0;34m(\u001b[0m\u001b[0;36m58\u001b[0m\u001b[0;34m)\u001b[0m\u001b[0;34m,\u001b[0m \u001b[0;36m0\u001b[0m\u001b[0;34m,\u001b[0m \u001b[0;36m0\u001b[0m\u001b[0;34m)\u001b[0m\u001b[0;34m)\u001b[0m\u001b[0;34m\u001b[0m\u001b[0;34m\u001b[0m\u001b[0m\n",
      "\u001b[0;31mNameError\u001b[0m: name 'Serial' is not defined"
     ]
    }
   ],
   "source": [
    "import embsec\n",
    "import struct               \n",
    "\n",
    "ser = Serial('/embsec/protocol_lab/sending_data')\n",
    "# Your code goes here!\n",
    "ser.write(struct.pack('>h58shh', 1, bytes(58), 0, 0))\n",
    "\n",
    "with open('sending_data.bin', 'rb') as fp:\n",
    "    file_contents = fp.read()\n",
    "\n",
    "for i in range(0, len(file_contents), 58):\n",
    "    file_chunk = file_contents[i: i+58]\n",
    "    frame = struct.pack('>h58shh', 2, file_chunk, 0, 0)\n",
    "    ser.write(frame)\n",
    "\n",
    "ser.write(struct.pack('>h58shh', 3, bytes(58), 0, 0))\n",
    "ser.read_until()\n",
    "\n"
   ]
  },
  {
   "cell_type": "markdown",
   "metadata": {},
   "source": [
    "### Challenge Name: heartbeat (/embsec/protocol_lab/heartbeat)\n",
    "\n",
    "\n",
    "The bootloader can only take so much data at once and is getting bogged down by\n",
    "the constant stream of data sent its way. It cannot write the firmware to memory\n",
    "as fast as it's receiving new data.\n",
    "\n",
    "Now, the bootloader will send a OK (message type = 4) message when it is all\n",
    "set to be sent another messsage. So, before sending any message, wait for an\n",
    "OK message, and then send just one message. After you have sent a DONE message,\n",
    "the bootloader will send an OK message, and then a flag.\n",
    "\n"
   ]
  },
  {
   "cell_type": "code",
   "execution_count": 2,
   "metadata": {},
   "outputs": [
    {
     "data": {
      "text/plain": [
       "b'\\x00\\x04\\x00\\x00\\x00\\x00\\x00\\x00\\x00\\x00\\x00\\x00\\x00\\x00\\x00\\x00\\x00\\x00\\x00\\x00\\x00\\x00\\x00\\x00\\x00\\x00\\x00\\x00\\x00\\x00\\x00\\x00\\x00\\x00\\x00\\x00\\x00\\x00\\x00\\x00\\x00\\x00\\x00\\x00\\x00\\x00\\x00\\x00\\x00\\x00\\x00\\x00\\x00\\x00\\x00\\x00\\x00\\x00\\x00\\x00\\x00\\x00\\x00\\x00embsec{heartbeat_8ccfc6cf971c556a}\\n'"
      ]
     },
     "execution_count": 2,
     "metadata": {},
     "output_type": "execute_result"
    }
   ],
   "source": [
    "from embsec import Serial\n",
    "\n",
    "def heartbeat():\n",
    "    ser = Serial(\"/embsec/protocol_lab/heartbeat\")\n",
    "    ser.write(struct.pack('>h58shh', 1, bytes(58), 0, 0))\n",
    "\n",
    "    with open('heartbeat.bin', 'rb') as fp:\n",
    "        file_contents = fp.read()\n",
    "\n",
    "    for i in range(0, len(file_contents), 58):\n",
    "        file_chunk = file_contents[i: i+58]\n",
    "        frame = struct.pack('>h58shh', 2, file_chunk, 0, 0)\n",
    "\n",
    "        got_data = ser.read(64)\n",
    "        got_packet = struct.unpack('>h58shh', got_data)\n",
    "        rec_type = got_packet[0]\n",
    "        \n",
    "        ser.write(frame)\n",
    "    ser.write(struct.pack('>h58shh', 3, bytes(58), 0, 0))\n",
    "    \n",
    "    ser.read(64)\n",
    "    return ser.read_until()\n",
    "\n",
    "heartbeat()\n"
   ]
  },
  {
   "cell_type": "markdown",
   "metadata": {},
   "source": [
    "### Challenge Name: noise (/embsec/protocol_lab/noise)\n",
    "\n",
    "\n",
    "Your data is being sent over a noisy medium - some messages are getting corrupted\n",
    "and the bootloader cannot interpret the message, causing firmware update\n",
    "failures.\n",
    "\n",
    "Add a checksum to the end of the message in the unused_1 field. This checksum is\n",
    "the sum of all the bytes in the data field.\n",
    "\n",
    "When the bootloader receives any message, it will calculate the checksum. There is a\n",
    "chance that an error occured during transmission, and this calculated value may\n",
    "differ from the checksum field of the message. If this is the case, the bootloader\n",
    "will send a RESEND (message type = 5) message, and expect the last message to be\n",
    "re-sent.\n",
    "\n",
    "If you receive a RESEND message instead of a OK message, re-send the last frame.\n",
    "This includes the DONE message, too!\n",
    "\n",
    "\n"
   ]
  },
  {
   "cell_type": "code",
   "execution_count": 5,
   "metadata": {},
   "outputs": [
    {
     "data": {
      "text/plain": [
       "b'embsec{noise_0cc41a165709dfef}\\n'"
      ]
     },
     "execution_count": 5,
     "metadata": {},
     "output_type": "execute_result"
    }
   ],
   "source": [
    "from embsec import Serial\n",
    "\n",
    "def send(ser, message_tosend):\n",
    "    ser.write(message_tosend)\n",
    "    message_received = ser.read(64)\n",
    "    message_struct = struct.unpack('>h58shh', message_received)\n",
    "    rec_type = message_struct[0]\n",
    "    \n",
    "    if rec_type == 5: \n",
    "        checker(ser, message_tosend)\n",
    "\n",
    "def noise():\n",
    "    ser = Serial(\"/embsec/protocol_lab/noise\")\n",
    "   \n",
    "    send(ser, struct.pack('>h58shh', 1,bytes(58), 0, 0))\n",
    "    with open('noise.bin', 'rb') as fp:\n",
    "        file_contents = fp.read()\n",
    "\n",
    "    for i in range(0, len(file_contents), 58):\n",
    "        file_chunk = file_contents[i: i+58]\n",
    "        send(ser,(struct.pack('>h58shh', 2, file_chunk, sum(file_chunk), 0)))\n",
    "        \n",
    "        \n",
    "    send(ser,struct.pack('>h58shh', 3, bytes(58), 0, 0))\n",
    "    return ser.read_until()\n",
    "\n",
    "noise()\n",
    "\n",
    "\n",
    "    "
   ]
  },
  {
   "cell_type": "markdown",
   "metadata": {},
   "source": [
    "### Challenge Name: replay (/embsec/protocol_lab/replay)\n",
    "\n",
    "\n",
    "There have been instances of counterfeit update tools being used to upload\n",
    "modified firmware to cars. To prevent this, the auto company has tried to\n",
    "secure their protocol.\n",
    "\n",
    "In order for the bootloader to verify the update tool is legitimate, a handshake\n",
    "is added to the beginning of the communication protocol. Now, messages are sent\n",
    "as follows:\n",
    "\n",
    "1. The update tool sends a BEGIN message to the bootloader, as before.\n",
    "\n",
    "2. The bootloader responds with a CHALLENGE message (type = 6) where the\n",
    "   data field contains a random number.\n",
    "\n",
    "3. The update tool takes the data from the CHALLENGE message and performs a\n",
    "   secret mathematical operations on it. The bootloader also knows what this\n",
    "   operation is, but you do not. The update tool must respond\n",
    "   with an ANSWER message (type = 7) where the data field is the result of the\n",
    "   secret mathematical operation on the challenge data.\n",
    "\n",
    "4. If the ANSWER is correct, the communications proceed normally. If incorrect, the\n",
    "   bootloader will respond WRONG (type = 8), and not accept any more information for that session.\n",
    "   You will have to wait 1 second before starting a new session.\n",
    "\n",
    "You are an attacker who has a counterfeit update tool. You need to figure out a way\n",
    "to make it through this handshake and send modified firmware. You have attached a\n",
    "protocol analyzer to the bus, and can read out all communications. Doing this, you\n",
    "have noticed a crucial bit of information: the CHALLENGE data is random, but appears\n",
    "to only be values between [0, 255].\n",
    "\n",
    "1. How can you get past this handshake? (HINT: look at the listed resources!)\n",
    "\n",
    "2. Can you get away with observing just one legitimate handshake? How so?\n",
    "\n",
    "3. What is the expected maximum time the attack in question two can take? Remember that\n",
    "   penalty for a failed handshake is 1 second, ignore the time the actual\n",
    "   handshake takes for now.\n",
    "\n",
    "4. BONUS: implement your attack here, in python. To listen to traffic on the bus,\n",
    "   use ser.read(64), and you don't have to worry about checksums for this challenge.\n",
    "   Once you have enough information and have waited for a handshake to complete, use\n",
    "   ser.write() to mount your attack. Don't worry about the 1 second delay for this\n",
    "   attack.\n",
    "\n",
    "Resources:\n",
    "\n",
    "<https://en.wikipedia.org/wiki/Replay_attack>\n",
    "\n",
    "\n"
   ]
  },
  {
   "cell_type": "code",
   "execution_count": 2,
   "metadata": {},
   "outputs": [],
   "source": [
    "from embsec import Serial\n",
    "\n",
    "def replay():\n",
    "    ser = Serial(\"/embsec/protocol_lab/replay\")\n",
    "    # Your code goes here!\n",
    "\n",
    "replay()\n"
   ]
  },
  {
   "cell_type": "code",
   "execution_count": null,
   "metadata": {},
   "outputs": [],
   "source": []
  }
 ],
 "metadata": {
  "kernelspec": {
   "display_name": "Python 3",
   "language": "python",
   "name": "python3"
  },
  "language_info": {
   "codemirror_mode": {
    "name": "ipython",
    "version": 3
   },
   "file_extension": ".py",
   "mimetype": "text/x-python",
   "name": "python",
   "nbconvert_exporter": "python",
   "pygments_lexer": "ipython3",
   "version": "3.7.6"
  }
 },
 "nbformat": 4,
 "nbformat_minor": 4
}
