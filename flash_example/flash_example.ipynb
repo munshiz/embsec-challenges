{
 "cells": [
  {
   "cell_type": "markdown",
   "metadata": {},
   "source": [
    "# Flash example\n",
    "\n",
    "\n",
    "This lesson provides a peripheral programming example that accompanies the\n",
    "Flash example from the datasheet lecture. \n"
   ]
  },
  {
   "cell_type": "markdown",
   "metadata": {},
   "source": [
    "### Challenge Name: flash_example (/embsec/flash_example/flash_example)\n",
    "\n",
    "\n",
    "The code for writing and checking Flash memory can be found in `flash_example.c`.\n",
    "The code follows the process described in the lecture, using the register definitions\n",
    "and bit field definitions from the Stellaris library.\n",
    "\n"
   ]
  },
  {
   "cell_type": "code",
   "execution_count": null,
   "metadata": {},
   "outputs": [],
   "source": [
    "import embsec\n",
    "import subprocess\n",
    "from core.util import extract_flag\n",
    "\n",
    "def flash_example():\n",
    "    subprocess.check_output([f'(cd flash_example && make CHALLENGE=flash_example)'], shell=True)\n",
    "    resp0, resp1, resp2 = embsec.grade_emulated(f'./flash_example/gcc/main.bin', f'/embsec/flash_example/flash_example')\n",
    "    stdout, stdin = resp2\n",
    "    return (extract_flag(stdout))\n",
    "    \n",
    "flash_example()\n",
    "\n"
   ]
  }
 ],
 "metadata": {},
 "nbformat": 4,
 "nbformat_minor": 2
}
