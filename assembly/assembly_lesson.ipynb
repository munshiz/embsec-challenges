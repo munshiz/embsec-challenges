{
 "cells": [
  {
   "cell_type": "markdown",
   "metadata": {},
   "source": [
    "# An Introduction to Assembly\n",
    "\n",
    "In this lesson, you will learn to read and write assembly code, the instructions that a CPU executes to complete a task. Understanding Assembly language is key to understand how a machine executes a program, and can help discover security vulnerabilities. Read through the following lesson and answer the questions following each section."
   ]
  },
  {
   "cell_type": "markdown",
   "metadata": {},
   "source": [
    "## Part 1: Instruction Sets\n",
    "\n",
    "What are instruction sets? Think of them as a list of things the CPU can do. We use a combination of these instructions to create a program. Where other programing languages have syntax for logic and data structures, assembly languages only have this instruction set to modify data. Though there aren't complex language structures, like there are in Python and C, we are able to execute our instructions directly on the chip using assembly. In fact, all programs that you write are eventually translated to assembly before being executed. It is important to understand how these programs work at the assembly level since this is exactly how they are executing on the processor.\n",
    "\t\t\n",
    "Different types of processors have different instruction sets, just like different programming languages have different syntax. This means assembly written for an Intel CPU will not run on an ARM processor, and vice versa. Even different types of CPUs within the same family might not even use the same instruction set. \n",
    "\t\t\n",
    "Intel CPUs are CISC (Complex Instruction Set Computing) meaning it has more instructions that it is capable of executing, but that also makes the hardware more complex. CISC processors are often used in PCs, servers, and consoles.\n",
    "\t\t\n",
    "Arm processors are RISC (Reduced Instruction Set Computing), and have a smaller instruction set. The smaller instruction set means that programs need to be written with efficiency in mind, while a CISC program may be shorter, since it has more pre-defined functions. \n",
    "\t\t\n",
    "Additionally, CISC processors have a lot of memory management instructions, so accessing areas of memory is common. While CISC processors have registers, RISC processors have more and operate using values loaded into these registers. Therefor, the only memory management instructions available to RISC is to load a value to a register or store that value to memory. "
   ]
  },
  {
   "cell_type": "markdown",
   "metadata": {},
   "source": [
    "### Exercise\n",
    "\n",
    "Why might an embedded device benefit from using a RISC unit above a CISC unit. Additionally, why might a more traditional unit utilize a CISC processor? Can you think of any examples of the opposite occuring?"
   ]
  },
  {
   "cell_type": "raw",
   "metadata": {},
   "source": []
  },
  {
   "cell_type": "markdown",
   "metadata": {},
   "source": [
    "## Part 2: The ARM Instruction Set\n",
    "\t\t\n",
    "Writing a program in assembly is like assembling a set of building blocks. These blocks are the instructions that the CPU can follow. A general instruction looks like this:\n",
    "\t\t\n",
    "    MNEMONIC{S}{condition} {Rd}, Operand1, Operand2\n",
    "\t\t\n",
    "- MNEMONIC: The short name for the instruction\n",
    "- {S}: An optional suffix for the instruction, it could modify how the instruction executes\n",
    "- {condition}: An optional qualifier for the instruction. If the condition is met, the instruction is executed.\n",
    "- {Rd}: Register where the result of the operation (instruction) is stored.\n",
    "- Operand1: This can be a register or a constant value.\n",
    "- Operand2: Also a register or constant value.\n",
    "\t\t\n",
    "Operands and values will be covered later, but now let's go over some common instructions:\n",
    "\n",
    "![instructions](instructions.png)\n",
    "\t\t\n",
    "With these instructions, you are almost ready to write a program! But first you must understand the structure of an assembly program. You can define variables in the top part of the code, this is called the .data section and labeled so. The variables declared here won't have predefined memory addresses, but they can be referenced in the instructions. The instructions are defined in the .text section of the assembly. Here is an example program with both these sections defined:"
   ]
  },
  {
   "cell_type": "raw",
   "metadata": {},
   "source": [
    ".data          /* the .data section is dynamically created and its addresses cannot be easily predicted */\n",
    "var1: .word 3  /* variable 1 in memory */\n",
    "var2: .word 4  /* variable 2 in memory */\n",
    "\n",
    ".text          /* start of the text (code) section */ \n",
    ".global _start\n",
    "\n",
    "_start:\n",
    "    ldr r0, adr_var1  /* load the memory address of var1 via label adr_var1 into R0  */\n",
    "    ldr r1, adr_var2  /* load the memory address of var2 via label adr_var2 into R1  */\n",
    "    ldr r2, [r0]      /* load the value (0x03) at memory address found in R0 to register R2  */\n",
    "    str r2, [r1]      /* store the value found in R2 (0x03) to the memory address found in R1  */\n",
    "    bkpt             \n",
    "\n",
    "adr_var1: .word var1  /* address to var1 stored here */\n",
    "adr_var2: .word var2  /* address to var2 stored here */"
   ]
  },
  {
   "cell_type": "markdown",
   "metadata": {},
   "source": [
    "### Exercise\n",
    "\n",
    "Define a .data section that can store a 128 bit symmetric key."
   ]
  },
  {
   "cell_type": "raw",
   "metadata": {},
   "source": []
  },
  {
   "cell_type": "markdown",
   "metadata": {},
   "source": [
    "## Part 3: Operands and Values:\n",
    "\t\t\n",
    "You can call these instructions to operate on set values, or on values located in registers. \n",
    "\t\t\n",
    "A constant is defined with a pound sign, like so: #123\n",
    "\t\t\n",
    "A register is defined by an Rx, like: R1, R2\n",
    "\t\t\n",
    "The amount of registers is dependent on the processor, this information can be found in the datasheet. \n",
    "\t\t\n",
    "Each instruction, after translating to machine code, is 32 bit (hence, 32 bit architecture). This means that space is limited when it comes to operands. If you try to use an invalid value, the assembler will respond with an error. If this is the case, you can split a value into two halves, and load them into adjacent registers. the LDR instruction (mentioned below) will also handle this.\n",
    "\t\t\n",
    "You may wish to label values so that you can refer to them in multiple places, sort of like a variable. These are called literals, and are generally defined at the bottom of the text section (code). You label them in the same way you might label a subroutine (more on that later). Here is an example of a literal definition:\n",
    "\t\t\n",
    "    adr_var1: .word var1\n",
    "\t\t\n",
    "This assigns the address of var1 to a word sized (4 byte) constant called adr_var.\n"
   ]
  },
  {
   "cell_type": "markdown",
   "metadata": {},
   "source": [
    "### Exercise\n",
    "\n",
    "Write a line of assembly that uses the value stored in R5. You can use any instruction from the graphic above in part 2!"
   ]
  },
  {
   "cell_type": "raw",
   "metadata": {},
   "source": [
    "ldr r5, #16\n"
   ]
  },
  {
   "cell_type": "markdown",
   "metadata": {},
   "source": [
    "## Part 4: Memory Instructions\n",
    "\t\t\n",
    "As mentioned earlier, ARM assembly allows you to read information from memory to a register, do some processing on it, and store it back in memory. This section will go over how to use the load and store instructions to achieve this. \n",
    "\t\t\n",
    "First, look at this example of incrementing a value from memory. The address of the value is currently stored in R0 (Register 0).\n",
    "\t\t\n",
    "    ldr r1, [r0]\n",
    "    add r1, r1 #1\n",
    "    str r1, [r0]\n",
    "\t\t\n",
    "The brackets are used to denote that the register holds an address that we want to read from or write to.\n",
    "\t\t\n",
    "There are additional forms of addressing:\n",
    "\t\t\n",
    "Offset: [r1, #2]\n",
    "\t\tThis will add 2 to the address held in r1, but r1 will remain unmodified.\n",
    "\t\t\n",
    "Pre-indexed: [r1, #4]!\n",
    "This is the same as offset, the address will be the value in r1 plus 4, but now r1 will be updated to be r1+4.\n",
    "\t\t\n",
    "Post-indexed: [r1], #4\n",
    "This will use the address held in r1, but after the instruction, r1 will be updated to be r1+4"
   ]
  },
  {
   "cell_type": "markdown",
   "metadata": {},
   "source": [
    "### Exercise\n",
    "\n",
    "Determine the values stored in each register (R1, R2, R3) from this set of assembly instructions"
   ]
  },
  {
   "cell_type": "raw",
   "metadata": {},
   "source": [
    "ldr r1, #40\n",
    "ldr r2, r1\n",
    "add r3, r1 r2\n",
    "str r1, r3\n",
    "sub r2, r3 #16\n",
    "str r2, [r3]\n",
    "ldr r3, [r3]\n",
    "\n",
    "r1 = \n",
    "r2 = \n",
    "r3 = "
   ]
  },
  {
   "cell_type": "markdown",
   "metadata": {},
   "source": [
    "## Part 5: Conditionals\n",
    "\t\n",
    "I mentioned earlier that assembly is different than a programming language like C because of C's program structure. Well, assembly does have a structure, in fact, it can execute the same type of logic that any high level programming language can, through the use of conditional statements and branching.\n",
    "\t\t\n",
    "Each ARM processor has a Current Program Status Register (CPSR) that is used to monitor the current program status. It contains information about a carry bit, if the processor is doing adding, if an overflow occurred during an operation, and if an operation resulted in a 0 or not. The last status bit is known as the zero bit. It can be set to zero when comparing two values. For example, if you wanted to check if two values were equal, you could subtract one from the other. If your result was zero, the zero bit would be set to 1! Similarly, if they were not equal, the zero flag would be set to 0. A decision can then be made about the program based on this zero flag.\n",
    "\t\t\n",
    "ARM processors use a set of condition codes that compare the values then check these status bits. If the conditions are met, then the instruction will execute. The condition codes are added as suffixes to the instruction that depends on the condition. Here is a list of possible conditional codes in ARM assembly:\n",
    "\n",
    "![conditionals](conditionals.png)"
   ]
  },
  {
   "cell_type": "raw",
   "metadata": {},
   "source": [
    "mov     r0, #2             /* setting up initial variable */\n",
    "cmp     r0, #3     /* comparing r0 to number 3. Negative bit get's set to 1 */\n",
    "addlt   r0, r0, #1 /* increasing r0 IF it was determined that it is smaller (lower than) number 3 */\n",
    "cmp     r0, #3     /* comparing r0 to number 3 again. Zero bit gets set to 1. Negative bit is set to 0 */\n",
    "addlt   r0, r0, #1 /* increasing r0 IF it was determined that it is smaller (lower than) number 3 */\n",
    "bx      lr"
   ]
  },
  {
   "cell_type": "markdown",
   "metadata": {},
   "source": [
    "To use conditionals, compare two values using the CMP instruction. In this example, the value in r0 is being compared to the value 3 twice. This CMP operation will set flags in the CPSR, and following instructions, like the ADDLT instruction, will use these flags to conditionally execute."
   ]
  },
  {
   "cell_type": "markdown",
   "metadata": {},
   "source": [
    "### Exercise \n",
    "\n",
    "Create a program that compares the values of two registers (R1 & R2). If R1's value is larger, add R2's value to R1's. If R2's value is larger, subtract R1's value from R2. If they are even, both registers should be set to the value 0."
   ]
  },
  {
   "cell_type": "raw",
   "metadata": {},
   "source": []
  },
  {
   "cell_type": "markdown",
   "metadata": {},
   "source": [
    "## Part 6: Branches and Subroutines\n",
    "\t\t\n",
    "Branching allows a program to \"jump\" to another part and start executing instructions from there. The B instruction consumes a memory address, and, just like if you were to call a function in a C program, the next line which is being executed is now not the next line down, it is somewhere else in the program.\n",
    "\t\t\n",
    "You can define sections of assembler code just like you can a function, making it easier to jump to. This is called a subroutine. There is a main routine, and a set of other subroutines that exist in a program. In reality, it is just a memory address where to start executing code, but you can reference the subroutine by its name, like this:"
   ]
  },
  {
   "cell_type": "raw",
   "metadata": {},
   "source": [
    "main:\n",
    "        mov     r1, #2     /* setting up initial variable a */\n",
    "        mov     r2, #3     /* setting up initial variable b */\n",
    "        cmp     r1, r2     /* comparing variables to determine which is bigger */\n",
    "        blt     r1_lower   /* jump to r1_lower in case r2 is bigger (N==1) */\n",
    "        mov     r0, r1     /* if branching/jumping did not occur, r1 is bigger (or the same) so store r1 into r0 */\n",
    "        b       end        /* proceed to the end */\n",
    "r1_lower:\n",
    "        mov r0, r2         /* We ended up here because r1 was smaller than r2, so move r2 into r0 */\n",
    "        b end              /* proceed to the end */\n",
    "end:\n",
    "        bx lr              /* THE END */\n"
   ]
  },
  {
   "cell_type": "markdown",
   "metadata": {},
   "source": [
    "Branches do not need to be conditional, they can just jump to continue to another part of code, however, what if you need to return to just after the branch statement? This is where the Link Register (LR) comes into play. By using the B instruction with an L suffix, the memory address following the branch instruction is stored in the LR. When the subroutine finishes, the program will jump to whatever is in the LR, and the program will continue."
   ]
  },
  {
   "cell_type": "markdown",
   "metadata": {},
   "source": [
    "### Exercise\n",
    "\n",
    "Re-write the solution to exercise 5 to use subroutines. That is, move each result into its own subroutine and jump to that subroutine based on the result of the comparison."
   ]
  },
  {
   "cell_type": "code",
   "execution_count": null,
   "metadata": {},
   "outputs": [],
   "source": []
  },
  {
   "cell_type": "markdown",
   "metadata": {},
   "source": [
    "## Part 7: The Stack\n",
    "\t\t\n",
    "When a computer is executing a program, it may not know how much space it will need to store all its variables and information. To solve this, it uses a growing data structure called the stack. A stack is able consume information, and when asked, will return the most recent thing it was given. Think about a stack of plates, you can add more and more plates, but only remove the top plate, then the next\\85 These operations are called \"pushing\" onto the stack, and \"popping\" off the stack.\n",
    "\t\t\n",
    "In reality, a stack is just a sequential space in memory, sort of like an array. Since we have a limited amount of registers, we can't remember every address of data that we add, but we can give the stack that data, and come back to it when we need it. To achieve this, we use a register called the Stack Pointer (SP). Depending on whether the stack is growing up or down, when we push a value onto the stack, the stack pointer will increase or decrease to the next available memory address. \n",
    "\t\t\n",
    "This is an example program that shows how we can use the stack to temporarily store data, then recover it when we need it:"
   ]
  },
  {
   "cell_type": "raw",
   "metadata": {},
   "source": [
    "main:\n",
    "     mov   r0, #2  /* set up r0 */\n",
    "     push  {r0}    /* save r0 onto the stack */\n",
    "     mov   r0, #3  /* overwrite r0 */\n",
    "     pop   {r0}    /* restore r0 to it's initial state */\n",
    "     bx    lr      /* finish the program */\n"
   ]
  },
  {
   "cell_type": "markdown",
   "metadata": {},
   "source": [
    "Another aspect of the stack is the Frame Pointer (FP). When the assembly code jumps to another function, a section of the stack is set aside in anticipation for any local variables that are created in that function. At the bottom of the frame, meaning the frame will grow above it, exists the address where the FP points. Just below that is where the LR points, to assist in returning to the calling function. The memory in the frame is used to store local values, and they can be referenced by using an offset address with the FP. The creation of frames on the stack help functions stay organized."
   ]
  },
  {
   "cell_type": "markdown",
   "metadata": {},
   "source": [
    "### Exercise\n",
    "\n",
    "How might the stack be used to save the value of one of the registers we have talked about so far? Think about how subroutines must return even if a program is multiple subroutines deep. Next, describe what this segment of code does:"
   ]
  },
  {
   "cell_type": "raw",
   "metadata": {},
   "source": [
    "push {r1}\n",
    "push {r0}\n",
    "pop {r1}\n",
    "pop {r0}"
   ]
  },
  {
   "cell_type": "raw",
   "metadata": {},
   "source": []
  },
  {
   "cell_type": "markdown",
   "metadata": {},
   "source": [
    "## Review\n",
    "a. ARM instruction sets are simpler than Intel instruction sets, and use registers to hold information.\n",
    "\n",
    "b. ARM instructions are 32 bit, and follow the format: MNEMONIC{S}{condition} {Rd}, Operand1, Operand2.\n",
    "\n",
    "c. Immediate values are denoted with a pound sign, registers begin with a lowercase r.\n",
    "\n",
    "d. You can load and store information from memory to registers and vice versa using the LDR and STR instructions.\n",
    "\n",
    "e. The CPSR is used by conditional instructions to determine execution.\n",
    "\n",
    "f. The CMP instruction will impact the CPSR.\n",
    "\n",
    "g. Branching conditionally allows a program to take multiple paths.\n",
    "\n",
    "h. The Stack grows as more values are added to it.\n",
    "\n",
    "i. Frames are added to the stack with each function call."
   ]
  },
  {
   "cell_type": "code",
   "execution_count": null,
   "metadata": {},
   "outputs": [],
   "source": []
  }
 ],
 "metadata": {
  "kernelspec": {
   "display_name": "Python 3",
   "language": "python",
   "name": "python3"
  },
  "language_info": {
   "codemirror_mode": {
    "name": "ipython",
    "version": 3
   },
   "file_extension": ".py",
   "mimetype": "text/x-python",
   "name": "python",
   "nbconvert_exporter": "python",
   "pygments_lexer": "ipython3",
   "version": "3.7.6"
  }
 },
 "nbformat": 4,
 "nbformat_minor": 4
}
