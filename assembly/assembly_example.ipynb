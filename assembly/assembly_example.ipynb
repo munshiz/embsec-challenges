{
 "cells": [
  {
   "cell_type": "markdown",
   "metadata": {},
   "source": [
    "# Welcome to the Assembly Lesson\n",
    "\n",
    "In this lesson you will learn about programming ARM assembly by stepping through example programs and completing a few assembly programming assignments."
   ]
  },
  {
   "cell_type": "markdown",
   "metadata": {},
   "source": [
    "## Example: Hello World in Assembly"
   ]
  },
  {
   "cell_type": "code",
   "execution_count": 28,
   "metadata": {},
   "outputs": [
    {
     "name": "stdout",
     "output_type": "stream",
     "text": [
      "Overwriting hello_world.c\n"
     ]
    }
   ],
   "source": [
    "%%file hello_world.c\n",
    "\n",
    "#include <stdio.h>\n",
    "\n",
    "int main(void) {\n",
    "  printf(\"Hello, world.\\n\");\n",
    "  return 0;\n",
    "}"
   ]
  },
  {
   "cell_type": "code",
   "execution_count": 13,
   "metadata": {},
   "outputs": [
    {
     "name": "stdout",
     "output_type": "stream",
     "text": [
      "Overwriting hello_world.s\n"
     ]
    }
   ],
   "source": [
    "%%file hello_world.s\n",
    ".syntax unified\n",
    "\n",
    "    @ --------------------------------\n",
    ".global main\n",
    "    \n",
    "main:\n",
    "    @ Stack the return address (lr) in addition to a dummy register (ip) to\n",
    "    @ keep the stack 8-byte aligned.\n",
    "    push    {ip, lr}\n",
    "\n",
    "    @ Load the argument and perform the call. This is like 'printf(\"...\")' in C.\n",
    "    ldr     r0, =message\n",
    "    bl      printf\n",
    "\n",
    "    @ Exit from 'main'. This is like 'return 0' in C.\n",
    "    mov     r0, #0    @ Return 0.\n",
    "\n",
    "    @ Pop the dummy ip to reverse our alignment fix, and pop the original lr\n",
    "    @ value directly into pc — the Program Counter — to return.\n",
    "    pop     {ip, pc}\n",
    "\n",
    "    @ --------------------------------\n",
    "    @ Data for the printf calls. The GNU assembler's \".asciz\" directive\n",
    "    @ automatically adds a NULL character termination.\n",
    "\n",
    "message:\n",
    "    .asciz \"Hello, world.\\n\"\n"
   ]
  },
  {
   "cell_type": "code",
   "execution_count": 14,
   "metadata": {},
   "outputs": [],
   "source": [
    "!arm-linux-gnueabi-gcc -o hello_world hello_world.s"
   ]
  },
  {
   "cell_type": "code",
   "execution_count": 17,
   "metadata": {},
   "outputs": [
    {
     "name": "stdout",
     "output_type": "stream",
     "text": [
      "Hello, world.\n"
     ]
    }
   ],
   "source": [
    "!QEMU_LD_PREFIX=/usr/arm-linux-gnueabi ./hello_world"
   ]
  },
  {
   "cell_type": "markdown",
   "metadata": {},
   "source": [
    "Let's debug this program and step through each instruction. First, start the hello world program with the -g flag to indicate that you would like to debug the program with gdb. This will start gdb server which we can connect to in another terminal window to start our debugging:\n",
    "\n",
    "    qemu-arm -g 12345 ./hello_world\n",
    "    \n",
    "In another window start gdb and connect to the gdb server with the following commands:\n",
    "\n",
    "    $ gdb-multiarch\n",
    "    GNU gdb (Ubuntu 8.1-0ubuntu3.2) 8.1.0.20180409-git\n",
    "    Copyright (C) 2018 Free Software Foundation, Inc.\n",
    "    License GPLv3+: GNU GPL version 3 or later <http://gnu.org/licenses/gpl.html&gt;\n",
    "    This is free software: you are free to change and redistribute it.\n",
    "    There is NO WARRANTY, to the extent permitted by law.  Type \"show copying\"\n",
    "    and \"show warranty\" for details.\n",
    "    This GDB was configured as \"x86_64-linux-gnu\".\n",
    "    Type \"show configuration\" for configuration details.\n",
    "    For bug reporting instructions, please see:\n",
    "    <http://www.gnu.org/software/gdb/bugs/&gt;.\n",
    "    Find the GDB manual and other documentation resources online at:\n",
    "    <http://www.gnu.org/software/gdb/documentation/&gt;.\n",
    "    For help, type \"help\".\n",
    "    Type \"apropos word\" to search for commands related to \"word\".\n",
    "    pwndbg: loaded 180 commands. Type pwndbg [filter] for a list.\n",
    "    pwndbg: created $rebase, $ida gdb functions (can be used with print/break)\n",
    "    pwndbg> target remote :12345\n",
    "    "
   ]
  },
  {
   "cell_type": "code",
   "execution_count": 18,
   "metadata": {},
   "outputs": [
    {
     "name": "stdout",
     "output_type": "stream",
     "text": [
      "^C\n"
     ]
    }
   ],
   "source": [
    "!QEMU_LD_PREFIX=/usr/arm-linux-gnueabi qemu-arm -g 12345 \n",
    "./hello_world"
   ]
  },
  {
   "cell_type": "markdown",
   "metadata": {},
   "source": [
    "## Example: Subroutines (or functions) in Assembly"
   ]
  },
  {
   "cell_type": "code",
   "execution_count": 29,
   "metadata": {},
   "outputs": [
    {
     "name": "stdout",
     "output_type": "stream",
     "text": [
      "Overwriting subroutine.c\n"
     ]
    }
   ],
   "source": [
    "%%file subroutine.c\n",
    "#include <stdio.h>\n",
    "\n",
    "void subroutine() {\n",
    "    printf(\"Hello, world.\\n\");\n",
    "}\n",
    "\n",
    "int main(void) {\n",
    "    subroutine();\n",
    "    return 0;\n",
    "}\n"
   ]
  },
  {
   "cell_type": "code",
   "execution_count": 30,
   "metadata": {},
   "outputs": [
    {
     "name": "stdout",
     "output_type": "stream",
     "text": [
      "Overwriting subroutine.s\n"
     ]
    }
   ],
   "source": [
    "%%file subroutine.s\n",
    ".syntax unified\n",
    "\n",
    "    @ --------------------------------\n",
    ".global main\n",
    "    \n",
    "main:\n",
    "    @ Stack the return address (lr) in addition to a dummy register (ip) to\n",
    "    @ keep the stack 8-byte aligned.\n",
    "    push    {ip, lr}\n",
    "\n",
    "    @ Branch and link to subroutine\n",
    "    bl     subroutine\n",
    "\n",
    "    @ Exit from 'main'. This is like 'return 0' in C.\n",
    "    mov     r0, #0    @ Return 0.\n",
    "\n",
    "    @ Pop the dummy ip to reverse our alignment fix, and pop the original lr\n",
    "    @ value directly into pc — the Program Counter — to return.\n",
    "    pop     {ip, pc}\n",
    "\n",
    "    @ --------------------------------\n",
    "    @ Data for the printf calls. The GNU assembler's \".asciz\" directive\n",
    "    @ automatically adds a NULL character termination.\n",
    "\n",
    ".global subroutine\n",
    "\n",
    "subroutine:\n",
    "    @ Stack the return address (lr) in addition to a dummy register (ip) to\n",
    "    @ keep the stack 8-byte aligned.\n",
    "    push    {ip, lr}\n",
    "    \n",
    "    @ Load the argument and perform the call. This is like 'printf(\"...\")' in C.\n",
    "    ldr     r0, =message\n",
    "    bl      printf\n",
    "\n",
    "    @ Pop the dummy ip to reverse our alignment fix, and pop the original lr\n",
    "    @ value directly into pc — the Program Counter — to return.\n",
    "    pop     {ip, pc}\n",
    "    \n",
    "message:\n",
    "    .asciz \"Hello, world.\\n\"\n"
   ]
  },
  {
   "cell_type": "code",
   "execution_count": 31,
   "metadata": {},
   "outputs": [],
   "source": [
    "!arm-linux-gnueabi-gcc -o subroutine subroutine.s"
   ]
  },
  {
   "cell_type": "code",
   "execution_count": 27,
   "metadata": {},
   "outputs": [
    {
     "name": "stdout",
     "output_type": "stream",
     "text": [
      "Hello, world.\n"
     ]
    }
   ],
   "source": [
    "!QEMU_LD_PREFIX=/usr/arm-linux-gnueabi ./subroutine"
   ]
  },
  {
   "cell_type": "code",
   "execution_count": null,
   "metadata": {},
   "outputs": [],
   "source": []
  }
 ],
 "metadata": {
  "kernelspec": {
   "display_name": "Python 3",
   "language": "python",
   "name": "python3"
  },
  "language_info": {
   "codemirror_mode": {
    "name": "ipython",
    "version": 3
   },
   "file_extension": ".py",
   "mimetype": "text/x-python",
   "name": "python",
   "nbconvert_exporter": "python",
   "pygments_lexer": "ipython3",
   "version": "3.7.6"
  }
 },
 "nbformat": 4,
 "nbformat_minor": 4
}
