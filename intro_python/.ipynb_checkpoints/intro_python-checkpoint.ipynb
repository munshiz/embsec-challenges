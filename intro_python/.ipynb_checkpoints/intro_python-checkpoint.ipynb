{
 "cells": [
  {
   "cell_type": "markdown",
   "metadata": {},
   "source": [
    "# Intro python\n",
    "\n",
    "In this lesson you will learn how to interact with the course system with Python. \n",
    "This course is split up into a series of lessons each with specific learning goals.\n",
    "Each lesson contains a series of challenge for you to complete. The challenges\n",
    "will require you to learn from online resources such as https://docs.python.org/,\n",
    "https://en.cppreference.com/w/c/language, and, our favorite, https://stackoverflow.com/.\n",
    "\n",
    "After completing a given challenge, a flag will be dispensed to you!\n"
   ]
  },
  {
   "cell_type": "markdown",
   "metadata": {},
   "source": [
    "### Challenge Name: read_example (/embsec/intro_python/read_example)\n",
    "\n",
    "Each challenge will require you to interact with a system over a serial connection. \n",
    "The python interface for communicating with this system is identical to the pyserial\n",
    "package (https://pythonhosted.org/pyserial/) used to communicate with traditional \n",
    "serial ports. Instead of using serial.Serial, you will use embsec.Serial and instead\n",
    "of connecting to /dev/<your device>, you will connect to /embsec/<lesson name>/<challenge name>. \n",
    "\n",
    "For example, in this challenge you will connect to /embsec/intro_python/read_example. Or in code:\n",
    "\n",
    "    >> from embsec import Serial\n",
    "    >> ser = Serial('/embsec/intro_python/read_example')\n",
    "\n",
    "Now that you have a connection, you will be able to read and write to the system. For this\n",
    "challenge, all you need to do is read from the serial connection and print out the\n",
    "received data until a newline character is received\n",
    "\n",
    "    >> d = ser.read()\n",
    "    >> while d != b'\\n':\n",
    "    >>     print(d.decode(), end='')\n",
    "    >>     d = ser.read()\n",
    "\n"
   ]
  },
  {
   "cell_type": "code",
   "execution_count": null,
   "metadata": {},
   "outputs": [],
   "source": [
    "from embsec import Serial\n",
    "\n",
    "def read_example():\n",
    "    ser = Serial(\"/embsec/intro_python/read_example\")\n",
    "    # Your code goes here!\n",
    "\n",
    "read_example()\n"
   ]
  },
  {
   "cell_type": "markdown",
   "metadata": {},
   "source": [
    "### Challenge Name: write_example (/embsec/intro_python/write_example)\n",
    "\n",
    "\n",
    "For this challenge, we can follow the same set up as above by importing Serial\n",
    "from embsec, and connecting to ('/embsec/intro_python/write_example') . After, all you need to do is\n",
    "write a string to the serial device, and then read from the serial connection\n",
    "until the newline character is received, and print out the received message.\n",
    "\n",
    "    >> ser = Serial('/embsec/intro_python/write_example')\n",
    "    >> ser.write(b'hello world!\\n')\n",
    "    >> print(ser.read_until())\n",
    "\n"
   ]
  },
  {
   "cell_type": "code",
   "execution_count": null,
   "metadata": {},
   "outputs": [],
   "source": [
    "from embsec import Serial\n",
    "\n",
    "def write_example():\n",
    "    ser = Serial(\"/embsec/intro_python/write_example\")\n",
    "    # Your code goes here!\n",
    "\n",
    "write_example()\n"
   ]
  }
 ],
 "metadata": {},
 "nbformat": 4,
 "nbformat_minor": 2
}
