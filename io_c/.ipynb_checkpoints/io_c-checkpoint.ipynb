{
 "cells": [
  {
   "cell_type": "markdown",
   "metadata": {},
   "source": [
    "# Io c\n",
    "\n",
    "In this lesson you will learn about some of the AVR IO \n",
    "functionality. This will enable you to read and write to Flash, EEPROM\n",
    "memories, as well as read and write to serial devices such \n",
    "as the host tools you are designing during this course. \n",
    "A series of challenges follow which will require you to \n",
    "read C documentation as well as other online resources. \n",
    "Good luck!\n",
    "\n",
    "Note: These challenges are similar to the IO Python\n",
    "challenges. You are implementing the devices which you\n",
    "were \"previously speaking\" to."
   ]
  },
  {
   "cell_type": "markdown",
   "metadata": {},
   "source": [
    "### Challenge Name: echo_int (/embsec/io_c/echo_int)\n",
    "\n",
    "\n",
    "        1. Read a big-endian short from the host tool\n",
    "        2. Increment the integer by 1\n",
    "        3. Send the integer as a big-endian short back to the host tool\n",
    "    \n",
    "    Resources:\n",
    "    \n",
    "    <https://en.wikipedia.org/wiki/Endianness>\n",
    "    \n",
    "    <https://en.wikipedia.org/wiki/Integer_%28computer_science%29>\n",
    "    \n",
    "    <https://docs.python.org/3/library/struct.html>\n",
    "    \n",
    "    \n"
   ]
  },
  {
   "cell_type": "code",
   "execution_count": null,
   "metadata": {},
   "outputs": [],
   "source": [
    "import embsec\n",
    "import subprocess\n",
    "from core.util import extract_flag\n",
    "\n",
    "def echo_int():\n",
    "    subprocess.check_output([f'gcc -I../../lib/uart echo_int.c ../../lib/uart/uart_linux.c -o echo_int'], shell=True)\n",
    "    stdout, stdin = embsec.grade_c(f'./echo_int', f'/embsec/io_c/echo_int')\n",
    "    \n",
    "    return (extract_flag(stdout))\n",
    "    \n",
    "echo_int()\n",
    "\n"
   ]
  },
  {
   "cell_type": "markdown",
   "metadata": {},
   "source": [
    "### Challenge Name: recv_file (/embsec/io_c/recv_file)\n",
    "\n",
    "\n",
    "\n",
    "        1. Read 'send_file.bin' from your local system\n",
    "        2. Calculate the size\n",
    "        3. Send the size as a little-endian short\n",
    "        4. Send the file to serial device\n",
    "\n",
    "        The serial device expects a little-endian short indicating the size of the\n",
    "        incoming data and then size bytes of data. The format is represented below:\n",
    "\n",
    "        [ 0x02 ]  [ variable ]\n",
    "        ---------------------\n",
    "        | Length |  Data... |\n",
    "        ---------------------\n",
    "\n",
    "    Resources:\n",
    "\n",
    "    <https://en.wikipedia.org/wiki/Endianness>\n",
    "\n",
    "    <https://en.wikipedia.org/wiki/Integer_%28computer_science%29>\n",
    "\n",
    "    <https://docs.python.org/3/library/struct.html>\n",
    "\n",
    "    <https://docs.python.org/3/tutorial/inputoutput.html>\n",
    "    \n"
   ]
  },
  {
   "cell_type": "code",
   "execution_count": null,
   "metadata": {},
   "outputs": [],
   "source": [
    "import embsec\n",
    "import subprocess\n",
    "from core.util import extract_flag\n",
    "\n",
    "def recv_file():\n",
    "    subprocess.check_output([f'gcc -I../../lib/uart recv_file.c ../../lib/uart/uart_linux.c -o recv_file'], shell=True)\n",
    "    stdout, stdin = embsec.grade_c(f'./recv_file', f'/embsec/io_c/recv_file')\n",
    "    \n",
    "    return (extract_flag(stdout))\n",
    "    \n",
    "recv_file()\n",
    "\n"
   ]
  },
  {
   "cell_type": "markdown",
   "metadata": {},
   "source": [
    "### Challenge Name: recv_large_file (/embsec/io_c/recv_large_file)\n",
    "\n",
    "\n",
    "        1. Read 'send_large_file.bin' from your local system\n",
    "        3. Send the data in frames to the serial device (frame format below)\n",
    "        4. Send zero-length frame to indicate end of transmission\n",
    "\n",
    "        The serial device expects that a frame begins with a little-endian short\n",
    "        indicating the size of the frame and then frame data. The maximum frame\n",
    "        size is 16 bytes. The frame format is represented below:\n",
    "\n",
    "        [ 0x02 ]  [ up to 0xE bytes ]\n",
    "        ----------------------------\n",
    "        | Length |      Data...    |\n",
    "        ----------------------------\n",
    "\n",
    "    Resources:\n",
    "    <https://en.wikipedia.org/wiki/Endianness>\n",
    "    <https://en.wikipedia.org/wiki/Integer_%28computer_science%29>\n",
    "    <https://docs.python.org/3/library/struct.html>\n",
    "    <https://docs.python.org/3/tutorial/inputoutput.html>\n",
    "    \n"
   ]
  },
  {
   "cell_type": "code",
   "execution_count": null,
   "metadata": {},
   "outputs": [],
   "source": [
    "import embsec\n",
    "import subprocess\n",
    "from core.util import extract_flag\n",
    "\n",
    "def recv_large_file():\n",
    "    subprocess.check_output([f'gcc -I../../lib/uart recv_large_file.c ../../lib/uart/uart_linux.c -o recv_large_file'], shell=True)\n",
    "    stdout, stdin = embsec.grade_c(f'./recv_large_file', f'/embsec/io_c/recv_large_file')\n",
    "    \n",
    "    return (extract_flag(stdout))\n",
    "    \n",
    "recv_large_file()\n",
    "\n"
   ]
  }
 ],
 "metadata": {},
 "nbformat": 4,
 "nbformat_minor": 2
}
