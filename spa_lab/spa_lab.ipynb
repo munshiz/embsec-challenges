{
 "cells": [
  {
   "cell_type": "markdown",
   "metadata": {},
   "source": [
    "# Spa lab\n",
    "\n",
    "\n",
    "Practice simple power analysis (SPA) on a password checker that uses strcmp(),\n",
    "and see why you should never use it for this!\n"
   ]
  },
  {
   "cell_type": "markdown",
   "metadata": {},
   "source": [
    "### Challenge Name: spa_easy (/embsec/spa_lab/spa_easy)\n",
    "\n",
    "\n",
    "The traces in this challenge are nicely triggered and aligned. Take a look at the\n",
    "code provided to you to understand how to get and plot multiple traces together, then\n",
    "modify this code to suit your needs. When you have found the correct PIN, the legend on\n",
    "the plot will say so. Send this PIN value with the correct_pin variable over serial.\n",
    "\n"
   ]
  },
  {
   "cell_type": "code",
   "execution_count": null,
   "metadata": {},
   "outputs": [],
   "source": [
    "\n",
    "from embsec import Serial\n",
    "import spa_client as sc\n",
    "\n",
    "def spa_easy():\n",
    "    ser = Serial(\"/embsec/spa_lab/spa_easy\")\n",
    "    client = sc.DataClient(path='passwordtrigger')\n",
    "\n",
    "    # dat = client.fetch('1234')\n",
    "    # sc.plot_trace(dat, smooth=20)\n",
    "    # dat = client.fetch('5678')\n",
    "    # sc.plot_trace(dat, smooth=20)\n",
    "    # sc.show_plot()\n",
    "\n",
    "    correct_pin = 1234  # set this to the answer you find, the code below will submit it\n",
    "    ser.write('{}\\n'.format(correct_pin).encode())  # send PIN\n",
    "    return ser.read_until()  # gets flag\n",
    "\n",
    "\n",
    "spa_easy()\n"
   ]
  },
  {
   "cell_type": "markdown",
   "metadata": {},
   "source": [
    "### Challenge Name: spa_hard (/embsec/spa_lab/spa_hard)\n",
    "\n",
    "\n",
    "Now that you've worked on that nice waveform, try a harder one! Try and see which features appear\n",
    "dependent on the passcode.\n",
    "\n"
   ]
  },
  {
   "cell_type": "code",
   "execution_count": null,
   "metadata": {},
   "outputs": [],
   "source": [
    "\n",
    "from embsec import Serial\n",
    "import spa_client as sc\n",
    "\n",
    "def spa_hard():\n",
    "    ser = Serial(\"/embsec/spa_lab/spa_hard\")\n",
    "    client = sc.DataClient(path='password')\n",
    "\n",
    "    # dat = client.fetch('1234')\n",
    "    # sc.plot_trace(dat, smooth=20)\n",
    "    # dat = client.fetch('5678')\n",
    "    # sc.plot_trace(dat, smooth=20)\n",
    "    # sc.show_plot()\n",
    "\n",
    "    correct_pin = 1234  # set this to the answer you find, the code below will submit it\n",
    "    ser.write('{}\\n'.format(correct_pin).encode())  # send PIN\n",
    "    return ser.read_until()  # gets flag\n",
    "\n",
    "\n",
    "spa_hard()\n"
   ]
  }
 ],
 "metadata": {},
 "nbformat": 4,
 "nbformat_minor": 2
}
