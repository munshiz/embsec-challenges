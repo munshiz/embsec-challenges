{
 "cells": [
  {
   "cell_type": "markdown",
   "metadata": {},
   "source": [
    "# Io python\n",
    "\n",
    "In this lesson you will learn about the IO functions of Python.\n",
    "This will enable you to read and write files as well as \n",
    "read and write to serial devices such as the secure bootloader \n",
    "you are designing during this course. A series of challenges\n",
    "follow which will require you to read Python documentation\n",
    "as well as other online resources. Good luck!"
   ]
  },
  {
   "cell_type": "markdown",
   "metadata": {},
   "source": [
    "### Challenge Name: echo_int (/embsec/io_python/echo_int)\n",
    "\n",
    "\n",
    "    1. Read a big-endian short from the serial device\n",
    "    2. Increment the integer by 1\n",
    "    3. Send the integer as a big-endian short back to the serial device\n",
    "\n",
    "Resources:\n",
    "\n",
    "<https://en.wikipedia.org/wiki/Endianness>\n",
    "\n",
    "<https://en.wikipedia.org/wiki/Integer_%28computer_science%29>\n",
    "\n",
    "<https://docs.python.org/3/library/struct.html>\n",
    "\n",
    "\n"
   ]
  },
  {
   "cell_type": "code",
   "execution_count": null,
   "metadata": {},
   "outputs": [],
   "source": [
    "from embsec import Serial\n",
    "\n",
    "def echo_int():\n",
    "    ser = Serial(\"/embsec/io_python/echo_int\")\n",
    "    # Your code goes here!\n",
    "\n",
    "echo_int()\n"
   ]
  },
  {
   "cell_type": "markdown",
   "metadata": {},
   "source": [
    "### Challenge Name: send_file (/embsec/io_python/send_file)\n",
    "\n",
    "\n",
    "\n",
    "    1. Read 'file.bin' from your local system\n",
    "    2. Calculate the size\n",
    "    3. Send the size as a little-endian short\n",
    "    4. Send the file to serial device\n",
    "\n",
    "    The serial device expects a little-endian short indicating the size of the\n",
    "    incoming data and then size bytes of data. The format is represented below:\n",
    "    \n",
    "    [ 0x02 ]  [ variable ]\n",
    "    ---------------------\n",
    "    | Length |  Data... |\n",
    "    ---------------------\n",
    "\n",
    "Resources:\n",
    "\n",
    "<https://en.wikipedia.org/wiki/Endianness>\n",
    "\n",
    "<https://en.wikipedia.org/wiki/Integer_%28computer_science%29>\n",
    "\n",
    "<https://docs.python.org/3/library/struct.html>\n",
    "\n",
    "<https://docs.python.org/3/tutorial/inputoutput.html>\n",
    "\n"
   ]
  },
  {
   "cell_type": "code",
   "execution_count": null,
   "metadata": {},
   "outputs": [],
   "source": [
    "from embsec import Serial\n",
    "\n",
    "def send_file():\n",
    "    ser = Serial(\"/embsec/io_python/send_file\")\n",
    "    # Your code goes here!\n",
    "\n",
    "send_file()\n"
   ]
  },
  {
   "cell_type": "markdown",
   "metadata": {},
   "source": [
    "### Challenge Name: send_large_file (/embsec/io_python/send_large_file)\n",
    "\n",
    "\n",
    "    1. Read 'large_file.bin' from your local system\n",
    "    3. Send the data in frames to the serial device (frame format below)\n",
    "    4. Send zero-length frame to indicate end of transmission\n",
    "\n",
    "    The serial device expects that a frame begins with a little-endian short \n",
    "    indicating the size of the frame and then frame data. The maximum frame \n",
    "    size is 16 bytes. The frame format is represented below:\n",
    "    \n",
    "    [ 0x02 ]  [ up to 0xE bytes ]\n",
    "    ----------------------------\n",
    "    | Length |      Data...    |\n",
    "    ----------------------------\n",
    "    \n",
    "Resources:\n",
    "<https://en.wikipedia.org/wiki/Endianness>\n",
    "<https://en.wikipedia.org/wiki/Integer_%28computer_science%29>\n",
    "<https://docs.python.org/3/library/struct.html>\n",
    "<https://docs.python.org/3/tutorial/inputoutput.html>\n",
    "<https://pyserial.readthedocs.io/en/latest/shortintro.html>\n",
    "\n"
   ]
  },
  {
   "cell_type": "code",
   "execution_count": null,
   "metadata": {},
   "outputs": [],
   "source": [
    "from embsec import Serial\n",
    "\n",
    "def send_large_file():\n",
    "    ser = Serial(\"/embsec/io_python/send_large_file\")\n",
    "    # Your code goes here!\n",
    "\n",
    "send_large_file()\n"
   ]
  }
 ],
 "metadata": {},
 "nbformat": 4,
 "nbformat_minor": 2
}
