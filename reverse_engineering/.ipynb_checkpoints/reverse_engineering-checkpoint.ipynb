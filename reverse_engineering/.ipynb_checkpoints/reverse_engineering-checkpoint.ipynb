{
 "cells": [
  {
   "cell_type": "markdown",
   "metadata": {},
   "source": [
    "<div class=\"intro\">\n",
    "<br />\n",
    "    <center>\n",
    "<img src=\"./img/bci-logo.png\" alt=\"Drawing\" style=\"width: 600px;\" class=\"center\"/><br />\n",
    "<span style=\"  font-size:2.75em;\">Reverse-Engineering ARM Binaries<br /><br /></span>\n",
    "        \n",
    "\n"
   ]
  },
  {
   "cell_type": "markdown",
   "metadata": {},
   "source": [
    "# Code Preamble"
   ]
  },
  {
   "cell_type": "code",
   "execution_count": 1,
   "metadata": {},
   "outputs": [],
   "source": [
    "import os\n",
    "from colors import *\n",
    "from IPython.display import HTML"
   ]
  },
  {
   "cell_type": "code",
   "execution_count": 2,
   "metadata": {},
   "outputs": [
    {
     "data": {
      "text/html": [
       "\n",
       "    <style>\n",
       "        div.intro { \n",
       "            background-color: #e3f5ff; \n",
       "            border-color: #dFb5b4; \n",
       "            border-bottom: 5px solid rgb(2,48,79); \n",
       "            border-top: 12px solid rgb(2,48,79); \n",
       "            padding: 0.5em;\n",
       "        }\n",
       "        </style>\n",
       "    <style>\n",
       "        div.first_level { \n",
       "            background-color: rgb(2,48,79); \n",
       "            border-color: #dFb5b4; \n",
       "            border-bottom: 5px solid rgb(232,200,93); \n",
       "            border-top: 12px solid rgb(232,200,93); \n",
       "            padding: 0.5em;\n",
       "        }\n",
       "    </style>\n",
       "     <style>\n",
       "        div.third_level { \n",
       "            background-color: #e3f5ff; \n",
       "            border-color: #dFb5b4; \n",
       "            border-bottom: 0px solid rgb(232,200,93); \n",
       "            border-top: 0px solid rgb(2,48,79); \n",
       "            padding: 0.5em;\n",
       "        }\n",
       "    </style>\n",
       "    "
      ],
      "text/plain": [
       "<IPython.core.display.HTML object>"
      ]
     },
     "execution_count": 2,
     "metadata": {},
     "output_type": "execute_result"
    }
   ],
   "source": [
    "HTML(define_color_blocks())"
   ]
  },
  {
   "cell_type": "markdown",
   "metadata": {},
   "source": [
    "<div class=\"intro\"></div>\n",
    "    "
   ]
  },
  {
   "cell_type": "markdown",
   "metadata": {},
   "source": [
    "# ARM"
   ]
  },
  {
   "cell_type": "markdown",
   "metadata": {},
   "source": [
    "<div class=\"intro\">\n",
    "    \n",
    "## arm1\n",
    "### Goal <a class=\"tocSkip\">\n",
    "* Get the password\n",
    "    \n",
    "### Lesson <a class=\"tocSkip\">\n",
    "* Understanding files\n",
    "* Linux commands\n",
    "    * `man`\n",
    "    * `file`\n",
    "    * `hexdump`\n",
    "    * `xxd`\n",
    "    * `strings`\n",
    "* Hashing\n",
    "    * `md5sum`\n",
    "    * `sha1sum`\n",
    "    * `sha256sum`\n"
   ]
  },
  {
   "cell_type": "markdown",
   "metadata": {},
   "source": [
    "\n",
    "### Exercise Setup <a class=\"tocSkip\">"
   ]
  },
  {
   "cell_type": "code",
   "execution_count": null,
   "metadata": {},
   "outputs": [],
   "source": [
    "name='arm1'"
   ]
  },
  {
   "cell_type": "markdown",
   "metadata": {},
   "source": [
    "---\n",
    "### RE/VR Work <a class=\"tocSkip\">"
   ]
  },
  {
   "cell_type": "code",
   "execution_count": null,
   "metadata": {},
   "outputs": [],
   "source": []
  },
  {
   "cell_type": "markdown",
   "metadata": {},
   "source": [
    "---\n",
    "### Solution <a class=\"tocSkip\">\n"
   ]
  },
  {
   "cell_type": "code",
   "execution_count": null,
   "metadata": {},
   "outputs": [],
   "source": []
  },
  {
   "cell_type": "markdown",
   "metadata": {},
   "source": [
    "<div class=\"intro\">\n",
    "    \n",
    "## arm2\n",
    "### Goal <a class=\"tocSkip\">\n",
    "* Get the password\n",
    "    \n",
    "### Lesson <a class=\"tocSkip\">\n",
    "* Understanding character encoding\n",
    "* Basic Linux commands\n",
    "    * ```diff```"
   ]
  },
  {
   "cell_type": "markdown",
   "metadata": {},
   "source": [
    "\n",
    "### Exercise Setup <a class=\"tocSkip\">"
   ]
  },
  {
   "cell_type": "code",
   "execution_count": null,
   "metadata": {},
   "outputs": [],
   "source": [
    "name='arm2'"
   ]
  },
  {
   "cell_type": "markdown",
   "metadata": {},
   "source": [
    "---\n",
    "### RE/VR Work <a class=\"tocSkip\">"
   ]
  },
  {
   "cell_type": "code",
   "execution_count": null,
   "metadata": {},
   "outputs": [],
   "source": []
  },
  {
   "cell_type": "markdown",
   "metadata": {},
   "source": [
    "---\n",
    "### Solution <a class=\"tocSkip\">\n"
   ]
  },
  {
   "cell_type": "code",
   "execution_count": null,
   "metadata": {},
   "outputs": [],
   "source": []
  },
  {
   "cell_type": "markdown",
   "metadata": {},
   "source": [
    "<div class=\"intro\">\n",
    "    \n",
    "## arm3\n",
    "### Goal <a class=\"tocSkip\">\n",
    "* Get the password\n",
    "    \n",
    "### Lesson <a class=\"tocSkip\">\n",
    "* File Formats\n",
    "* [elf101-64.pdf](http://localhost:8888/files/diagrams/elf101-64.pdf)\n",
    "* Linux commands\n",
    "    * ```readelf -a```\n",
    "    * ```objdump -d```\n",
    "    * ```objdump -d -M intel```\n",
    "* Static/Dynamic RE Refresher\n",
    " \n",
    "### References <a class=\"tocSkip\">\n",
    "* Corkami Diagrams: [https://github.com/corkami/pics](https://github.com/corkami/pics)\n",
    "* ELF 101: [https://linux-audit.com/elf-binaries-on-linux-understanding-and-analysis/](https://linux-audit.com/elf-binaries-on-linux-understanding-and-analysis/)\n",
    "    "
   ]
  },
  {
   "cell_type": "markdown",
   "metadata": {},
   "source": [
    "\n",
    "### Exercise Setup <a class=\"tocSkip\">"
   ]
  },
  {
   "cell_type": "code",
   "execution_count": null,
   "metadata": {},
   "outputs": [],
   "source": [
    "name='arm3'"
   ]
  },
  {
   "cell_type": "markdown",
   "metadata": {},
   "source": [
    "---\n",
    "### RE/VR Work <a class=\"tocSkip\">"
   ]
  },
  {
   "cell_type": "code",
   "execution_count": null,
   "metadata": {},
   "outputs": [],
   "source": []
  },
  {
   "cell_type": "markdown",
   "metadata": {},
   "source": [
    "---\n",
    "### Solution <a class=\"tocSkip\">\n"
   ]
  },
  {
   "cell_type": "code",
   "execution_count": null,
   "metadata": {},
   "outputs": [],
   "source": []
  },
  {
   "cell_type": "markdown",
   "metadata": {},
   "source": [
    "<div class=\"intro\">\n",
    "    \n",
    "## arm4\n",
    "### Goal <a class=\"tocSkip\">\n",
    "* Get the password\n",
    "    \n",
    "### Lesson <a class=\"tocSkip\">\n",
    "* IDA Pro Overview\n",
    "\n",
    "\n",
    "\n",
    "\n",
    "\n",
    "### IDA Pro <a class=\"tocSkip\">\n",
    "    \n",
    "* IDA Disassembly\n",
    "    * Cross reference variables: `x`\n",
    "    * Rename variables, functions, and addresses: `n`\n",
    "    \n",
    "    \n",
    "* Comments\n",
    "    * Options->Autocomments\n",
    "    * Anterior Comments (`insert`)\n",
    "    * Repeatable comments, side, (`;`)\n",
    "    * Nonrepeatable comments, side, (`:`)\n",
    "    \n",
    "* Views\n",
    "    * Switch between views (`space bar`)\n",
    "    * Options->Display opcode bytes\n",
    "    * Windows->Reset Desktop\n",
    "\n",
    "    \n",
    "* General\n",
    "    * No Undo! Save early! Save often! Database snapshots (IDA 7.3 now has undo)\n",
    "    * Click on opcode to highlight other instances of opcode\n",
    "    * Python prompt\n",
    "    * Node Group Collapse (right-click->collapse)"
   ]
  },
  {
   "cell_type": "markdown",
   "metadata": {},
   "source": [
    "\n",
    "### Exercise Setup <a class=\"tocSkip\">"
   ]
  },
  {
   "cell_type": "code",
   "execution_count": null,
   "metadata": {},
   "outputs": [],
   "source": [
    "name='arm4'"
   ]
  },
  {
   "cell_type": "markdown",
   "metadata": {},
   "source": [
    "---\n",
    "### RE/VR Work <a class=\"tocSkip\">"
   ]
  },
  {
   "cell_type": "code",
   "execution_count": null,
   "metadata": {},
   "outputs": [],
   "source": []
  },
  {
   "cell_type": "markdown",
   "metadata": {},
   "source": [
    "---\n",
    "### Solution <a class=\"tocSkip\">\n"
   ]
  },
  {
   "cell_type": "code",
   "execution_count": null,
   "metadata": {},
   "outputs": [],
   "source": []
  },
  {
   "cell_type": "markdown",
   "metadata": {},
   "source": [
    "<div class=\"intro\">\n",
    "    \n",
    "## arm5\n",
    "### Goal <a class=\"tocSkip\">\n",
    "* Get the password\n",
    "    \n",
    "### Lesson <a class=\"tocSkip\">\n",
    "* More practice reversing"
   ]
  },
  {
   "cell_type": "markdown",
   "metadata": {},
   "source": [
    "\n",
    "### Exercise Setup <a class=\"tocSkip\">"
   ]
  },
  {
   "cell_type": "code",
   "execution_count": null,
   "metadata": {},
   "outputs": [],
   "source": [
    "name='arm5'"
   ]
  },
  {
   "cell_type": "markdown",
   "metadata": {},
   "source": [
    "---\n",
    "### RE/VR Work <a class=\"tocSkip\">"
   ]
  },
  {
   "cell_type": "code",
   "execution_count": null,
   "metadata": {},
   "outputs": [],
   "source": [
    "\n"
   ]
  },
  {
   "cell_type": "markdown",
   "metadata": {},
   "source": [
    "---\n",
    "### Solution <a class=\"tocSkip\">\n"
   ]
  },
  {
   "cell_type": "code",
   "execution_count": null,
   "metadata": {},
   "outputs": [],
   "source": []
  },
  {
   "cell_type": "markdown",
   "metadata": {},
   "source": [
    "<div class=\"intro\">\n",
    "    \n",
    "## arm6\n",
    "### Goal <a class=\"tocSkip\">\n",
    "* Get the password\n",
    "    \n",
    "### Lesson <a class=\"tocSkip\">\n",
    "* Anti-analysis\n",
    "* Patching\n",
    "* Tracing\n",
    "    \n",
    "#### IDA Pro Patching (3 ways) <a class=\"tocSkip\">\n",
    "1. Right-click->Modify registers\n",
    "2. Conditional breakpoints\n",
    "3. Edit->Patch Program->Apply patches to input file"
   ]
  },
  {
   "cell_type": "markdown",
   "metadata": {},
   "source": [
    "\n",
    "### Exercise Setup <a class=\"tocSkip\">"
   ]
  },
  {
   "cell_type": "code",
   "execution_count": null,
   "metadata": {},
   "outputs": [],
   "source": [
    "name='arm6'"
   ]
  },
  {
   "cell_type": "markdown",
   "metadata": {},
   "source": [
    "---\n",
    "### RE/VR Work <a class=\"tocSkip\">"
   ]
  },
  {
   "cell_type": "code",
   "execution_count": null,
   "metadata": {},
   "outputs": [],
   "source": []
  },
  {
   "cell_type": "markdown",
   "metadata": {},
   "source": [
    "---\n",
    "### Solution <a class=\"tocSkip\">\n"
   ]
  },
  {
   "cell_type": "code",
   "execution_count": null,
   "metadata": {},
   "outputs": [],
   "source": []
  },
  {
   "cell_type": "markdown",
   "metadata": {},
   "source": [
    "<div class=\"intro\">\n",
    "    \n",
    "## arm7\n",
    "### Goal<a class=\"tocSkip\">\n",
    "* Get the password\n",
    "* Record how you did it\n"
   ]
  },
  {
   "cell_type": "markdown",
   "metadata": {},
   "source": [
    "\n",
    "### Exercise Setup <a class=\"tocSkip\">"
   ]
  },
  {
   "cell_type": "code",
   "execution_count": null,
   "metadata": {},
   "outputs": [],
   "source": [
    "name='arm7'"
   ]
  },
  {
   "cell_type": "markdown",
   "metadata": {},
   "source": [
    "---\n",
    "### RE/VR Work <a class=\"tocSkip\">"
   ]
  },
  {
   "cell_type": "code",
   "execution_count": null,
   "metadata": {},
   "outputs": [],
   "source": []
  },
  {
   "cell_type": "markdown",
   "metadata": {},
   "source": [
    "---\n",
    "### Solution <a class=\"tocSkip\">\n"
   ]
  },
  {
   "cell_type": "code",
   "execution_count": null,
   "metadata": {},
   "outputs": [],
   "source": []
  },
  {
   "cell_type": "markdown",
   "metadata": {},
   "source": [
    "<div class=\"intro\">\n",
    "    \n",
    "## arm8\n",
    "### Goal<a class=\"tocSkip\">\n",
    "* Get the password\n",
    "* Record how you did it\n"
   ]
  },
  {
   "cell_type": "markdown",
   "metadata": {},
   "source": [
    "\n",
    "### Exercise Setup <a class=\"tocSkip\">"
   ]
  },
  {
   "cell_type": "code",
   "execution_count": null,
   "metadata": {},
   "outputs": [],
   "source": [
    "name='arm8'"
   ]
  },
  {
   "cell_type": "markdown",
   "metadata": {},
   "source": [
    "---\n",
    "### RE/VR Work <a class=\"tocSkip\">"
   ]
  },
  {
   "cell_type": "code",
   "execution_count": null,
   "metadata": {},
   "outputs": [],
   "source": []
  },
  {
   "cell_type": "markdown",
   "metadata": {},
   "source": [
    "---\n",
    "### Solution <a class=\"tocSkip\">\n"
   ]
  },
  {
   "cell_type": "markdown",
   "metadata": {},
   "source": [
    "<div class=\"intro\">\n",
    "    \n",
    "## arm9\n",
    "### Goal<a class=\"tocSkip\">\n",
    "* Get the password\n",
    "* Record how you did it\n"
   ]
  },
  {
   "cell_type": "markdown",
   "metadata": {},
   "source": [
    "\n",
    "### Exercise Setup <a class=\"tocSkip\">"
   ]
  },
  {
   "cell_type": "code",
   "execution_count": null,
   "metadata": {},
   "outputs": [],
   "source": [
    "name='arm9'"
   ]
  },
  {
   "cell_type": "markdown",
   "metadata": {},
   "source": [
    "---\n",
    "### RE/VR Work <a class=\"tocSkip\">"
   ]
  },
  {
   "cell_type": "code",
   "execution_count": null,
   "metadata": {},
   "outputs": [],
   "source": []
  },
  {
   "cell_type": "markdown",
   "metadata": {},
   "source": [
    "---\n",
    "### Solution <a class=\"tocSkip\">\n"
   ]
  },
  {
   "cell_type": "code",
   "execution_count": null,
   "metadata": {},
   "outputs": [],
   "source": []
  },
  {
   "cell_type": "markdown",
   "metadata": {},
   "source": [
    "<div class=\"intro\"></div>\n",
    "    "
   ]
  }
 ],
 "metadata": {
  "kernelspec": {
   "display_name": "Python 3",
   "language": "python",
   "name": "python3"
  },
  "language_info": {
   "codemirror_mode": {
    "name": "ipython",
    "version": 3
   },
   "file_extension": ".py",
   "mimetype": "text/x-python",
   "name": "python",
   "nbconvert_exporter": "python",
   "pygments_lexer": "ipython3",
   "version": "3.7.6"
  },
  "toc": {
   "base_numbering": 1,
   "nav_menu": {},
   "number_sections": true,
   "sideBar": true,
   "skip_h1_title": false,
   "title_cell": "Table of Contents",
   "title_sidebar": "Contents",
   "toc_cell": false,
   "toc_position": {
    "height": "calc(100% - 180px)",
    "left": "10px",
    "top": "150px",
    "width": "190.5px"
   },
   "toc_section_display": true,
   "toc_window_display": true
  },
  "widgets": {
   "application/vnd.jupyter.widget-state+json": {
    "state": {},
    "version_major": 2,
    "version_minor": 0
   }
  }
 },
 "nbformat": 4,
 "nbformat_minor": 4
}
